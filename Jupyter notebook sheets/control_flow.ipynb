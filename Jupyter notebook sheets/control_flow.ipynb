{
 "cells": [
  {
   "cell_type": "markdown",
   "metadata": {
    "deletable": true,
    "editable": true
   },
   "source": [
    "<h1 align=\"center\">Control flow</h1>"
   ]
  },
  {
   "cell_type": "code",
   "execution_count": 5,
   "metadata": {
    "collapsed": false,
    "deletable": true,
    "editable": true
   },
   "outputs": [
    {
     "name": "stdout",
     "output_type": "stream",
     "text": [
      "Generated number: 17\n",
      "\tUnless it is a single digit, will determine what it is equal to modulo 4\n",
      "\tEqual to one modulo four\n",
      "Generated number: 20\n",
      "\tUnless it is a single digit, will determine what it is equal to modulo 4\n",
      "\tDivisible by four\n",
      "Generated number: 37\n",
      "\tUnless it is a single digit, will determine what it is equal to modulo 4\n",
      "\tEqual to one modulo four\n",
      "Generated number: 32\n",
      "\tUnless it is a single digit, will determine what it is equal to modulo 4\n",
      "\tDivisible by four\n",
      "Generated number: 29\n",
      "\tUnless it is a single digit, will determine what it is equal to modulo 4\n",
      "\tEqual to one modulo four\n",
      "Generated number: 42\n",
      "\tUnless it is a single digit, will determine what it is equal to modulo 4\n",
      "\tEqual to two modulo four\n",
      "Generated number: 9\n",
      "\tUnless it is a single digit, will determine what it is equal to modulo 4\n",
      "No number greater than 49 has been generated\n"
     ]
    }
   ],
   "source": [
    "from random import randrange\n",
    "\n",
    "for _ in range(7):\n",
    "    generated_number = randrange(-10, 60)\n",
    "    print('Generated number: {}'.format(generated_number))\n",
    "    if generated_number < 0:\n",
    "        continue\n",
    "    if generated_number >= 50:\n",
    "        break\n",
    "    print('\\tUnless it is a single digit, will determine what it is equal to modulo 4')\n",
    "    if generated_number < 10:\n",
    "        pass\n",
    "    elif generated_number % 4 == 1:\n",
    "        print('\\tEqual to one modulo four')\n",
    "    elif generated_number % 4 == 2:\n",
    "        print('\\tEqual to two modulo four')\n",
    "    elif generated_number % 4 == 3:\n",
    "        print('\\tEqual to three modulo four')\n",
    "    else:\n",
    "        print('\\tDivisible by four')\n",
    "else:\n",
    "    print('No number greater than 49 has been generated')"
   ]
  },
  {
   "cell_type": "code",
   "execution_count": 4,
   "metadata": {
    "collapsed": false,
    "deletable": true,
    "editable": true
   },
   "outputs": [
    {
     "name": "stdout",
     "output_type": "stream",
     "text": [
      "Generated number: 49\n",
      "\tUnless it is a single digit, will determine what it is equal to modulo 4\n",
      "\tEqual to one modulo four\n",
      "Generated number: 22\n",
      "\tUnless it is a single digit, will determine what it is equal to modulo 4\n",
      "\tEqual to two modulo four\n",
      "Generated number: 47\n",
      "\tUnless it is a single digit, will determine what it is equal to modulo 4\n",
      "\tEqual to three modulo four\n",
      "Generated number: 13\n",
      "\tUnless it is a single digit, will determine what it is equal to modulo 4\n",
      "\tEqual to one modulo four\n",
      "Generated number: 22\n",
      "\tUnless it is a single digit, will determine what it is equal to modulo 4\n",
      "\tEqual to two modulo four\n",
      "Generated number: 18\n",
      "\tUnless it is a single digit, will determine what it is equal to modulo 4\n",
      "\tEqual to two modulo four\n",
      "Generated number: 25\n",
      "\tUnless it is a single digit, will determine what it is equal to modulo 4\n",
      "\tEqual to one modulo four\n",
      "No number greater than 49 has been generated\n"
     ]
    }
   ],
   "source": [
    "from random import randrange\n",
    "\n",
    "count_down = 7\n",
    "while count_down:\n",
    "    count_down -= 1\n",
    "    generated_number = randrange(-10, 60)\n",
    "    print('Generated number: {}'.format(generated_number))\n",
    "    if generated_number < 0:\n",
    "        continue\n",
    "    if generated_number >= 50:\n",
    "        break\n",
    "    print('\\tUnless it is a single digit, will determine what it is equal to modulo 4')\n",
    "    if generated_number < 10:\n",
    "        pass\n",
    "    elif generated_number % 4 == 1:\n",
    "        print('\\tEqual to one modulo four')\n",
    "    elif generated_number % 4 == 2:\n",
    "        print('\\tEqual to two modulo four')\n",
    "    elif generated_number % 4 == 3:\n",
    "        print('\\tEqual to three modulo four')\n",
    "    else:\n",
    "        print('\\tDivisible by four')\n",
    "else:\n",
    "    print('No number greater than 49 has been generated')"
   ]
  },
  {
   "cell_type": "code",
   "execution_count": 3,
   "metadata": {
    "collapsed": false,
    "deletable": true,
    "editable": true
   },
   "outputs": [
    {
     "name": "stdout",
     "output_type": "stream",
     "text": [
      "5 0\t4 1\t3 2\t3 2\t4 1\t\n",
      "\n",
      "5 0\t4 0\t3 0\t2 0\t1 0\t\n",
      "5 1\t4 1\t3 1\t2 1\t1 1\t\n",
      "5 2\t4 2\t3 2\t2 2\t2 1\t\n",
      "5 3\t4 3\t3 3\t3 2\t3 1\t\n",
      "5 4\t4 4\t4 3\t4 2\t4 1\t\n"
     ]
    }
   ],
   "source": [
    "for x, y in zip((range(5)), (range(5, 0, -1))):\n",
    "    print(x, y, end = '\\t') if x > y else print(y, x, end = '\\t')\n",
    "print('\\n')\n",
    "\n",
    "for x in range(5):\n",
    "    for y in range(5, 0, -1):\n",
    "        print(x, y, end = '\\t') if x > y else print(y, x, end = '\\t')\n",
    "    print()"
   ]
  },
  {
   "cell_type": "code",
   "execution_count": null,
   "metadata": {
    "collapsed": true
   },
   "outputs": [],
   "source": []
  }
 ],
 "metadata": {
  "kernelspec": {
   "display_name": "Python 3",
   "language": "python",
   "name": "python3"
  },
  "language_info": {
   "codemirror_mode": {
    "name": "ipython",
    "version": 3
   },
   "file_extension": ".py",
   "mimetype": "text/x-python",
   "name": "python",
   "nbconvert_exporter": "python",
   "pygments_lexer": "ipython3",
   "version": "3.5.3"
  }
 },
 "nbformat": 4,
 "nbformat_minor": 0
}
